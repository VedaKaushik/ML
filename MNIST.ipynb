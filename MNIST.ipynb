{
 "cells": [
  {
   "cell_type": "markdown",
   "id": "8a81765e",
   "metadata": {},
   "source": [
    "## Importing Tensorflow and MNIST dataset"
   ]
  },
  {
   "cell_type": "code",
   "execution_count": 11,
   "id": "033c2eef",
   "metadata": {},
   "outputs": [],
   "source": [
    "import tensorflow as tf\n",
    "\n",
    "mnist = tf.keras.datasets.mnist\n",
    "\n",
    "(x_train, y_train), (x_test, y_test) = mnist.load_data()\n",
    "\n",
    "# Scale the data so that it's easier for model to comprehend\n",
    "x_train = tf.keras.utils.normalize(x_train, axis=1)\n",
    "x_test = tf.keras.utils.normalize(x_test, axis=1)"
   ]
  },
  {
   "cell_type": "code",
   "execution_count": 12,
   "id": "e458ec6b",
   "metadata": {},
   "outputs": [],
   "source": [
    "import matplotlib.pyplot as plt\n",
    "\n",
    "#plt.imshow(x_train[23])\n",
    "\n",
    "#print(x_train[0])"
   ]
  },
  {
   "cell_type": "markdown",
   "id": "3c34c016",
   "metadata": {},
   "source": [
    "## Setting Model Parameters and Training "
   ]
  },
  {
   "cell_type": "code",
   "execution_count": 22,
   "id": "ddd4c514",
   "metadata": {},
   "outputs": [
    {
     "name": "stdout",
     "output_type": "stream",
     "text": [
      "Epoch 1/10\n",
      "1875/1875 [==============================] - 2s 824us/step - loss: 0.3116 - accuracy: 0.9063\n",
      "Epoch 2/10\n",
      "1875/1875 [==============================] - 2s 818us/step - loss: 0.1288 - accuracy: 0.9604\n",
      "Epoch 3/10\n",
      "1875/1875 [==============================] - 2s 805us/step - loss: 0.0925 - accuracy: 0.9713\n",
      "Epoch 4/10\n",
      "1875/1875 [==============================] - 1s 797us/step - loss: 0.0706 - accuracy: 0.9780\n",
      "Epoch 5/10\n",
      "1875/1875 [==============================] - 1s 797us/step - loss: 0.0572 - accuracy: 0.9819\n",
      "Epoch 6/10\n",
      "1875/1875 [==============================] - 2s 802us/step - loss: 0.0470 - accuracy: 0.9849\n",
      "Epoch 7/10\n",
      "1875/1875 [==============================] - 2s 801us/step - loss: 0.0412 - accuracy: 0.9868\n",
      "Epoch 8/10\n",
      "1875/1875 [==============================] - 2s 800us/step - loss: 0.0335 - accuracy: 0.9890\n",
      "Epoch 9/10\n",
      "1875/1875 [==============================] - 1s 795us/step - loss: 0.0294 - accuracy: 0.9898\n",
      "Epoch 10/10\n",
      "1875/1875 [==============================] - 2s 803us/step - loss: 0.0249 - accuracy: 0.9920\n"
     ]
    },
    {
     "data": {
      "text/plain": [
       "<keras.callbacks.History at 0x227b4bacad0>"
      ]
     },
     "execution_count": 22,
     "metadata": {},
     "output_type": "execute_result"
    }
   ],
   "source": [
    "model = tf.keras.models.Sequential()\n",
    "\n",
    "# To Flatten the data array of the input data from 2D to 1D\n",
    "# This will be the input layer of the neural network\n",
    "model.add(tf.keras.layers.Flatten())\n",
    "\n",
    "# 256 neurons per layer dense layer \n",
    "# tf.nn.relu is the go to function , rectilinear due to its ease of use and ability to fit data\n",
    "# activation functions are the functions that are responsible of the activation of a neuron\n",
    "# eg- Sigmoid , Tanh, ReLU, leaky ReLu, Softmax\n",
    "\n",
    "model.add(tf.keras.layers.Dense(64, activation=tf.nn.relu)) \n",
    "model.add(tf.keras.layers.Dense(64, activation=tf.nn.relu)) \n",
    "model.add(tf.keras.layers.Dense(64, activation=tf.nn.relu))\n",
    "\n",
    "# Output layer, Softmax used as we want a Probability Distribution\n",
    "model.add(tf.keras.layers.Dense(10, activation=tf.nn.softmax)) \n",
    "\n",
    "\n",
    "# Optimizer and loss functions are used for back propogation , optimizer is used to compare the recieved and expected output\n",
    "# while the loss function is a way to evaluate how well a neural network is performing \n",
    "# Loss - Function\n",
    "\n",
    "# MSE(Mean Squared Error) -- MAE(Mean Absolute Error) -- Hubber loss -- For Regression Models\n",
    "# Binary cross-entropy -- Categorical cross-entropy -- For Classification models \n",
    "# And the metric over whcih the model is evaluated is accuracy\n",
    "\n",
    "model.compile(optimizer='adam',\n",
    "             loss='sparse_categorical_crossentropy',\n",
    "             metrics= ['accuracy'])\n",
    "\n",
    "# epoch = 3 defines the number of times the \n",
    "model.fit(x_train, y_train, epochs=10)"
   ]
  },
  {
   "cell_type": "code",
   "execution_count": 24,
   "id": "329a1df5",
   "metadata": {
    "scrolled": true
   },
   "outputs": [
    {
     "name": "stdout",
     "output_type": "stream",
     "text": [
      "313/313 [==============================] - 0s 636us/step - loss: 0.1252 - accuracy: 0.9677\n",
      "0.12522919476032257 0.9677000045776367\n"
     ]
    }
   ],
   "source": [
    "val_loss, val_acc = model.evaluate(x_test, y_test)\n",
    "print(val_loss, val_acc)"
   ]
  },
  {
   "cell_type": "markdown",
   "id": "23da7da9",
   "metadata": {},
   "source": [
    "## Saving Trained Model"
   ]
  },
  {
   "cell_type": "code",
   "execution_count": 15,
   "id": "f03e4765",
   "metadata": {
    "scrolled": true
   },
   "outputs": [
    {
     "name": "stderr",
     "output_type": "stream",
     "text": [
      "WARNING:absl:Found untraced functions such as _update_step_xla while saving (showing 1 of 1). These functions will not be directly callable after loading.\n"
     ]
    },
    {
     "name": "stdout",
     "output_type": "stream",
     "text": [
      "INFO:tensorflow:Assets written to: num_reader.model\\assets\n"
     ]
    },
    {
     "name": "stderr",
     "output_type": "stream",
     "text": [
      "INFO:tensorflow:Assets written to: num_reader.model\\assets\n"
     ]
    }
   ],
   "source": [
    "model.save('num_reader.model')"
   ]
  },
  {
   "cell_type": "code",
   "execution_count": 16,
   "id": "35d54fce",
   "metadata": {},
   "outputs": [],
   "source": [
    "new_model = tf.keras.models.load_model('num_reader.model')"
   ]
  },
  {
   "cell_type": "code",
   "execution_count": 17,
   "id": "b3dc0ed8",
   "metadata": {},
   "outputs": [
    {
     "name": "stdout",
     "output_type": "stream",
     "text": [
      "313/313 [==============================] - 0s 609us/step\n"
     ]
    }
   ],
   "source": [
    "predictions= new_model.predict([x_test])"
   ]
  },
  {
   "cell_type": "code",
   "execution_count": 18,
   "id": "496b20b4",
   "metadata": {},
   "outputs": [
    {
     "name": "stdout",
     "output_type": "stream",
     "text": [
      "[[5.9612859e-08 8.7428816e-08 4.5666227e-05 ... 9.9993181e-01\n",
      "  4.8037680e-07 5.0511009e-08]\n",
      " [1.0840001e-09 1.0241974e-03 9.9894089e-01 ... 3.5258581e-06\n",
      "  3.9575144e-07 6.5205857e-12]\n",
      " [9.4216035e-10 9.9978143e-01 1.7759265e-06 ... 1.3731584e-04\n",
      "  3.3091761e-05 1.4899908e-06]\n",
      " ...\n",
      " [9.2649571e-10 8.9761215e-06 2.3861955e-07 ... 1.7004772e-04\n",
      "  2.9160799e-06 1.3433555e-05]\n",
      " [1.1892035e-07 1.5524909e-05 1.6621003e-08 ... 3.2901273e-08\n",
      "  6.1350432e-04 4.2636512e-07]\n",
      " [1.6259277e-05 3.3437086e-06 8.2426759e-06 ... 4.1508348e-09\n",
      "  1.7519804e-06 5.7633631e-11]]\n"
     ]
    }
   ],
   "source": [
    "print(predictions)"
   ]
  },
  {
   "cell_type": "code",
   "execution_count": 19,
   "id": "1deb4921",
   "metadata": {},
   "outputs": [],
   "source": [
    "import numpy as np"
   ]
  },
  {
   "cell_type": "markdown",
   "id": "ee456cc8",
   "metadata": {},
   "source": [
    "## Example of Prediction Using Model"
   ]
  },
  {
   "cell_type": "code",
   "execution_count": 20,
   "id": "b4df9346",
   "metadata": {},
   "outputs": [
    {
     "name": "stdout",
     "output_type": "stream",
     "text": [
      "7\n"
     ]
    },
    {
     "data": {
      "image/png": "[encoded data removed]",
      "text/plain": [
       "<Figure size 640x480 with 1 Axes>"
      ]
     },
     "metadata": {},
     "output_type": "display_data"
    }
   ],
   "source": [
    "print(np.argmax(predictions[0]))\n",
    "plt.imshow(x_test[0])\n",
    "plt.show()\n"
   ]
  }
 ],
 "metadata": {
  "kernelspec": {
   "display_name": "Python 3 (ipykernel)",
   "language": "python",
   "name": "python3"
  },
  "language_info": {
   "codemirror_mode": {
    "name": "ipython",
    "version": 3
   },
   "file_extension": ".py",
   "mimetype": "text/x-python",
   "name": "python",
   "nbconvert_exporter": "python",
   "pygments_lexer": "ipython3",
   "version": "3.11.4"
  }
 },
 "nbformat": 4,
 "nbformat_minor": 5
}
